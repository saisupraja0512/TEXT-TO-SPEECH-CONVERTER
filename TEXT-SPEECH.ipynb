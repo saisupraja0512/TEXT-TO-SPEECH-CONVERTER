{
  "nbformat": 4,
  "nbformat_minor": 0,
  "metadata": {
    "colab": {
      "provenance": []
    },
    "kernelspec": {
      "name": "python3",
      "display_name": "Python 3"
    },
    "language_info": {
      "name": "python"
    }
  },
  "cells": [
    {
      "cell_type": "markdown",
      "source": [
        "**INSTALLING THE LIBRARY THAT IS USED TO EXTRACT TEXT FROM IMAGES**"
      ],
      "metadata": {
        "id": "lqbDSe8O1GfG"
      }
    },
    {
      "cell_type": "code",
      "source": [
        "!pip install easyocr"
      ],
      "metadata": {
        "colab": {
          "base_uri": "https://localhost:8080/"
        },
        "id": "uyz4AhNmQAFB",
        "outputId": "55e7f4a7-a6ce-4a18-c801-ff163462c4bc"
      },
      "execution_count": 71,
      "outputs": [
        {
          "output_type": "stream",
          "name": "stdout",
          "text": [
            "Requirement already satisfied: easyocr in /usr/local/lib/python3.10/dist-packages (1.7.1)\n",
            "Requirement already satisfied: torch in /usr/local/lib/python3.10/dist-packages (from easyocr) (2.1.0+cu121)\n",
            "Requirement already satisfied: torchvision>=0.5 in /usr/local/lib/python3.10/dist-packages (from easyocr) (0.16.0+cu121)\n",
            "Requirement already satisfied: opencv-python-headless in /usr/local/lib/python3.10/dist-packages (from easyocr) (4.9.0.80)\n",
            "Requirement already satisfied: scipy in /usr/local/lib/python3.10/dist-packages (from easyocr) (1.11.4)\n",
            "Requirement already satisfied: numpy in /usr/local/lib/python3.10/dist-packages (from easyocr) (1.23.5)\n",
            "Requirement already satisfied: Pillow in /usr/local/lib/python3.10/dist-packages (from easyocr) (9.4.0)\n",
            "Requirement already satisfied: scikit-image in /usr/local/lib/python3.10/dist-packages (from easyocr) (0.19.3)\n",
            "Requirement already satisfied: python-bidi in /usr/local/lib/python3.10/dist-packages (from easyocr) (0.4.2)\n",
            "Requirement already satisfied: PyYAML in /usr/local/lib/python3.10/dist-packages (from easyocr) (6.0.1)\n",
            "Requirement already satisfied: Shapely in /usr/local/lib/python3.10/dist-packages (from easyocr) (2.0.2)\n",
            "Requirement already satisfied: pyclipper in /usr/local/lib/python3.10/dist-packages (from easyocr) (1.3.0.post5)\n",
            "Requirement already satisfied: ninja in /usr/local/lib/python3.10/dist-packages (from easyocr) (1.11.1.1)\n",
            "Requirement already satisfied: requests in /usr/local/lib/python3.10/dist-packages (from torchvision>=0.5->easyocr) (2.31.0)\n",
            "Requirement already satisfied: filelock in /usr/local/lib/python3.10/dist-packages (from torch->easyocr) (3.13.1)\n",
            "Requirement already satisfied: typing-extensions in /usr/local/lib/python3.10/dist-packages (from torch->easyocr) (4.5.0)\n",
            "Requirement already satisfied: sympy in /usr/local/lib/python3.10/dist-packages (from torch->easyocr) (1.12)\n",
            "Requirement already satisfied: networkx in /usr/local/lib/python3.10/dist-packages (from torch->easyocr) (3.2.1)\n",
            "Requirement already satisfied: jinja2 in /usr/local/lib/python3.10/dist-packages (from torch->easyocr) (3.1.3)\n",
            "Requirement already satisfied: fsspec in /usr/local/lib/python3.10/dist-packages (from torch->easyocr) (2023.6.0)\n",
            "Requirement already satisfied: triton==2.1.0 in /usr/local/lib/python3.10/dist-packages (from torch->easyocr) (2.1.0)\n",
            "Requirement already satisfied: six in /usr/local/lib/python3.10/dist-packages (from python-bidi->easyocr) (1.16.0)\n",
            "Requirement already satisfied: imageio>=2.4.1 in /usr/local/lib/python3.10/dist-packages (from scikit-image->easyocr) (2.31.6)\n",
            "Requirement already satisfied: tifffile>=2019.7.26 in /usr/local/lib/python3.10/dist-packages (from scikit-image->easyocr) (2023.12.9)\n",
            "Requirement already satisfied: PyWavelets>=1.1.1 in /usr/local/lib/python3.10/dist-packages (from scikit-image->easyocr) (1.5.0)\n",
            "Requirement already satisfied: packaging>=20.0 in /usr/local/lib/python3.10/dist-packages (from scikit-image->easyocr) (23.2)\n",
            "Requirement already satisfied: MarkupSafe>=2.0 in /usr/local/lib/python3.10/dist-packages (from jinja2->torch->easyocr) (2.1.4)\n",
            "Requirement already satisfied: charset-normalizer<4,>=2 in /usr/local/lib/python3.10/dist-packages (from requests->torchvision>=0.5->easyocr) (3.3.2)\n",
            "Requirement already satisfied: idna<4,>=2.5 in /usr/local/lib/python3.10/dist-packages (from requests->torchvision>=0.5->easyocr) (2.10)\n",
            "Requirement already satisfied: urllib3<3,>=1.21.1 in /usr/local/lib/python3.10/dist-packages (from requests->torchvision>=0.5->easyocr) (2.0.7)\n",
            "Requirement already satisfied: certifi>=2017.4.17 in /usr/local/lib/python3.10/dist-packages (from requests->torchvision>=0.5->easyocr) (2023.11.17)\n",
            "Requirement already satisfied: mpmath>=0.19 in /usr/local/lib/python3.10/dist-packages (from sympy->torch->easyocr) (1.3.0)\n"
          ]
        }
      ]
    },
    {
      "cell_type": "markdown",
      "source": [
        "**USED TO CONVERT TEXT INTO SPOKEN WORDS**"
      ],
      "metadata": {
        "id": "kfYKunej1jMw"
      }
    },
    {
      "cell_type": "code",
      "source": [
        "!pip install gTTS"
      ],
      "metadata": {
        "colab": {
          "base_uri": "https://localhost:8080/"
        },
        "id": "Zzyxt1npSVpD",
        "outputId": "42bc82ac-1bbe-49d8-8931-92984d41bbe3"
      },
      "execution_count": 72,
      "outputs": [
        {
          "output_type": "stream",
          "name": "stdout",
          "text": [
            "Requirement already satisfied: gTTS in /usr/local/lib/python3.10/dist-packages (2.5.0)\n",
            "Requirement already satisfied: requests<3,>=2.27 in /usr/local/lib/python3.10/dist-packages (from gTTS) (2.31.0)\n",
            "Requirement already satisfied: click<8.2,>=7.1 in /usr/local/lib/python3.10/dist-packages (from gTTS) (8.1.7)\n",
            "Requirement already satisfied: charset-normalizer<4,>=2 in /usr/local/lib/python3.10/dist-packages (from requests<3,>=2.27->gTTS) (3.3.2)\n",
            "Requirement already satisfied: idna<4,>=2.5 in /usr/local/lib/python3.10/dist-packages (from requests<3,>=2.27->gTTS) (2.10)\n",
            "Requirement already satisfied: urllib3<3,>=1.21.1 in /usr/local/lib/python3.10/dist-packages (from requests<3,>=2.27->gTTS) (2.0.7)\n",
            "Requirement already satisfied: certifi>=2017.4.17 in /usr/local/lib/python3.10/dist-packages (from requests<3,>=2.27->gTTS) (2023.11.17)\n"
          ]
        }
      ]
    },
    {
      "cell_type": "markdown",
      "source": [
        "**INSTALLING LIBRARY THAT PROVIDES A SIMPLE INTERFACE TO GOOGLE TRANSLATE API**"
      ],
      "metadata": {
        "id": "3E9H5IrI9ugk"
      }
    },
    {
      "cell_type": "code",
      "source": [
        "!pip install googletrans==4.0.0-rc1"
      ],
      "metadata": {
        "colab": {
          "base_uri": "https://localhost:8080/"
        },
        "id": "7VDxvMm3Siq1",
        "outputId": "63402f8e-9751-4dcc-f8c1-3aed6ad5bd21"
      },
      "execution_count": null,
      "outputs": [
        {
          "output_type": "stream",
          "name": "stdout",
          "text": [
            "Collecting googletrans==4.0.0-rc1\n",
            "  Downloading googletrans-4.0.0rc1.tar.gz (20 kB)\n",
            "  Preparing metadata (setup.py) ... \u001b[?25l\u001b[?25hdone\n",
            "Collecting httpx==0.13.3 (from googletrans==4.0.0-rc1)\n",
            "  Downloading httpx-0.13.3-py3-none-any.whl (55 kB)\n",
            "\u001b[2K     \u001b[90m━━━━━━━━━━━━━━━━━━━━━━━━━━━━━━━━━━━━━━━━\u001b[0m \u001b[32m55.1/55.1 kB\u001b[0m \u001b[31m2.2 MB/s\u001b[0m eta \u001b[36m0:00:00\u001b[0m\n",
            "\u001b[?25hRequirement already satisfied: certifi in /usr/local/lib/python3.10/dist-packages (from httpx==0.13.3->googletrans==4.0.0-rc1) (2023.11.17)\n",
            "Collecting hstspreload (from httpx==0.13.3->googletrans==4.0.0-rc1)\n",
            "  Downloading hstspreload-2024.1.5-py3-none-any.whl (1.1 MB)\n",
            "\u001b[2K     \u001b[90m━━━━━━━━━━━━━━━━━━━━━━━━━━━━━━━━━━━━━━━━\u001b[0m \u001b[32m1.1/1.1 MB\u001b[0m \u001b[31m8.2 MB/s\u001b[0m eta \u001b[36m0:00:00\u001b[0m\n",
            "\u001b[?25hRequirement already satisfied: sniffio in /usr/local/lib/python3.10/dist-packages (from httpx==0.13.3->googletrans==4.0.0-rc1) (1.3.0)\n",
            "Collecting chardet==3.* (from httpx==0.13.3->googletrans==4.0.0-rc1)\n",
            "  Downloading chardet-3.0.4-py2.py3-none-any.whl (133 kB)\n",
            "\u001b[2K     \u001b[90m━━━━━━━━━━━━━━━━━━━━━━━━━━━━━━━━━━━━━━━━\u001b[0m \u001b[32m133.4/133.4 kB\u001b[0m \u001b[31m8.1 MB/s\u001b[0m eta \u001b[36m0:00:00\u001b[0m\n",
            "\u001b[?25hCollecting idna==2.* (from httpx==0.13.3->googletrans==4.0.0-rc1)\n",
            "  Downloading idna-2.10-py2.py3-none-any.whl (58 kB)\n",
            "\u001b[2K     \u001b[90m━━━━━━━━━━━━━━━━━━━━━━━━━━━━━━━━━━━━━━━━\u001b[0m \u001b[32m58.8/58.8 kB\u001b[0m \u001b[31m7.3 MB/s\u001b[0m eta \u001b[36m0:00:00\u001b[0m\n",
            "\u001b[?25hCollecting rfc3986<2,>=1.3 (from httpx==0.13.3->googletrans==4.0.0-rc1)\n",
            "  Downloading rfc3986-1.5.0-py2.py3-none-any.whl (31 kB)\n",
            "Collecting httpcore==0.9.* (from httpx==0.13.3->googletrans==4.0.0-rc1)\n",
            "  Downloading httpcore-0.9.1-py3-none-any.whl (42 kB)\n",
            "\u001b[2K     \u001b[90m━━━━━━━━━━━━━━━━━━━━━━━━━━━━━━━━━━━━━━━━\u001b[0m \u001b[32m42.6/42.6 kB\u001b[0m \u001b[31m4.4 MB/s\u001b[0m eta \u001b[36m0:00:00\u001b[0m\n",
            "\u001b[?25hCollecting h11<0.10,>=0.8 (from httpcore==0.9.*->httpx==0.13.3->googletrans==4.0.0-rc1)\n",
            "  Downloading h11-0.9.0-py2.py3-none-any.whl (53 kB)\n",
            "\u001b[2K     \u001b[90m━━━━━━━━━━━━━━━━━━━━━━━━━━━━━━━━━━━━━━━━\u001b[0m \u001b[32m53.6/53.6 kB\u001b[0m \u001b[31m6.1 MB/s\u001b[0m eta \u001b[36m0:00:00\u001b[0m\n",
            "\u001b[?25hCollecting h2==3.* (from httpcore==0.9.*->httpx==0.13.3->googletrans==4.0.0-rc1)\n",
            "  Downloading h2-3.2.0-py2.py3-none-any.whl (65 kB)\n",
            "\u001b[2K     \u001b[90m━━━━━━━━━━━━━━━━━━━━━━━━━━━━━━━━━━━━━━━━\u001b[0m \u001b[32m65.0/65.0 kB\u001b[0m \u001b[31m7.5 MB/s\u001b[0m eta \u001b[36m0:00:00\u001b[0m\n",
            "\u001b[?25hCollecting hyperframe<6,>=5.2.0 (from h2==3.*->httpcore==0.9.*->httpx==0.13.3->googletrans==4.0.0-rc1)\n",
            "  Downloading hyperframe-5.2.0-py2.py3-none-any.whl (12 kB)\n",
            "Collecting hpack<4,>=3.0 (from h2==3.*->httpcore==0.9.*->httpx==0.13.3->googletrans==4.0.0-rc1)\n",
            "  Downloading hpack-3.0.0-py2.py3-none-any.whl (38 kB)\n",
            "Building wheels for collected packages: googletrans\n",
            "  Building wheel for googletrans (setup.py) ... \u001b[?25l\u001b[?25hdone\n",
            "  Created wheel for googletrans: filename=googletrans-4.0.0rc1-py3-none-any.whl size=17396 sha256=4fac2b9a2cb42241ca036b3d63ca0fec34a823b604d480eeeb6251aea3041c3d\n",
            "  Stored in directory: /root/.cache/pip/wheels/c0/59/9f/7372f0cf70160fe61b528532e1a7c8498c4becd6bcffb022de\n",
            "Successfully built googletrans\n",
            "Installing collected packages: rfc3986, hyperframe, hpack, h11, chardet, idna, hstspreload, h2, httpcore, httpx, googletrans\n",
            "  Attempting uninstall: chardet\n",
            "    Found existing installation: chardet 5.2.0\n",
            "    Uninstalling chardet-5.2.0:\n",
            "      Successfully uninstalled chardet-5.2.0\n",
            "  Attempting uninstall: idna\n",
            "    Found existing installation: idna 3.6\n",
            "    Uninstalling idna-3.6:\n",
            "      Successfully uninstalled idna-3.6\n",
            "Successfully installed chardet-3.0.4 googletrans-4.0.0rc1 h11-0.9.0 h2-3.2.0 hpack-3.0.0 hstspreload-2024.1.5 httpcore-0.9.1 httpx-0.13.3 hyperframe-5.2.0 idna-2.10 rfc3986-1.5.0\n"
          ]
        }
      ]
    },
    {
      "cell_type": "code",
      "source": [
        "from googletrans import Translator\n",
        "import easyocr\n",
        "from gtts import gTTS\n",
        "from IPython.display import Audio"
      ],
      "metadata": {
        "id": "uILQly18SZpq"
      },
      "execution_count": null,
      "outputs": []
    },
    {
      "cell_type": "markdown",
      "source": [
        "**EXTRACTING THE CONTENT FROM THE IMAGE IN DIFFERENT LANGUAGES**"
      ],
      "metadata": {
        "id": "3ASbL943_cAE"
      }
    },
    {
      "cell_type": "code",
      "source": [
        "reader = easyocr.Reader(['en'])\n",
        "translator = Translator()"
      ],
      "metadata": {
        "colab": {
          "base_uri": "https://localhost:8080/"
        },
        "id": "baQyVwjjSsHD",
        "outputId": "b3e4b36d-fb5b-4b15-f635-c5b3b1f586c1"
      },
      "execution_count": null,
      "outputs": [
        {
          "output_type": "stream",
          "name": "stderr",
          "text": [
            "WARNING:easyocr.easyocr:Neither CUDA nor MPS are available - defaulting to CPU. Note: This module is much faster with a GPU.\n",
            "WARNING:easyocr.easyocr:Downloading recognition model, please wait. This may take several minutes depending upon your network connection.\n"
          ]
        },
        {
          "output_type": "stream",
          "name": "stdout",
          "text": [
            "Progress: |██████████████████████████████████████████████████| 100.0% Complete"
          ]
        }
      ]
    },
    {
      "cell_type": "markdown",
      "source": [
        "**DISPLAYING AN IMAGE WITHIN IPYTHON ENVIRONMENT**"
      ],
      "metadata": {
        "id": "35DIr7ey__WN"
      }
    },
    {
      "cell_type": "code",
      "source": [
        "from IPython.display import display\n",
        "\n",
        "# Open and resize the image\n",
        "resized_im = Image.open(\"/content/INPUT_TXTTOSPEECH.jpg\").resize((300, 200))\n",
        "\n",
        "# Display the resized image\n",
        "display(resized_im)\n"
      ],
      "metadata": {
        "colab": {
          "base_uri": "https://localhost:8080/",
          "height": 217
        },
        "id": "WE8QxtOyVQ3b",
        "outputId": "a8f762ae-1d3e-44fa-9131-9c748e343854"
      },
      "execution_count": 49,
      "outputs": [
        {
          "output_type": "display_data",
          "data": {
            "text/plain": [
              "<PIL.Image.Image image mode=RGB size=300x200>"
            ],
            "image/png": "[encoded data removed]"
          },
          "metadata": {}
        }
      ]
    },
    {
      "cell_type": "markdown",
      "source": [
        "**TEXT EXTRACTING FROM THE IMAGE**"
      ],
      "metadata": {
        "id": "7_JqFV3IAfM_"
      }
    },
    {
      "cell_type": "code",
      "source": [
        "text_list = reader.readtext(\"/content/INPUT_TXTTOSPEECH.jpg\", add_margin=0.55, width_ths=0.7, link_threshold=0.8 , decoder='beamsearch',blocklist='=-', detail=0)\n",
        "text_list"
      ],
      "metadata": {
        "colab": {
          "base_uri": "https://localhost:8080/"
        },
        "id": "dl_D9Y1JVbIt",
        "outputId": "ebf46d55-4733-425b-9ac6-0a28b699afa5"
      },
      "execution_count": 50,
      "outputs": [
        {
          "output_type": "execute_result",
          "data": {
            "text/plain": [
              "['The future', 'depends on', 'what you do', 'today']"
            ]
          },
          "metadata": {},
          "execution_count": 50
        }
      ]
    },
    {
      "cell_type": "markdown",
      "source": [
        "**COMBINING THE TEXTS**"
      ],
      "metadata": {
        "id": "1t_EnLUgAo5H"
      }
    },
    {
      "cell_type": "code",
      "source": [
        "text_comb=' '.join(text_list)\n",
        "text_comb"
      ],
      "metadata": {
        "colab": {
          "base_uri": "https://localhost:8080/",
          "height": 35
        },
        "id": "D1VSTafHYIvM",
        "outputId": "541f9963-6550-4674-b357-adabcd610591"
      },
      "execution_count": 51,
      "outputs": [
        {
          "output_type": "execute_result",
          "data": {
            "text/plain": [
              "'The future depends on what you do today'"
            ],
            "application/vnd.google.colaboratory.intrinsic+json": {
              "type": "string"
            }
          },
          "metadata": {},
          "execution_count": 51
        }
      ]
    },
    {
      "cell_type": "markdown",
      "source": [
        "**DETECTING THE LANGUAGE FROM THE IMAGE**"
      ],
      "metadata": {
        "id": "yNNU13i_AzD6"
      }
    },
    {
      "cell_type": "code",
      "source": [
        "print(translator.detect(text_comb))"
      ],
      "metadata": {
        "colab": {
          "base_uri": "https://localhost:8080/"
        },
        "id": "nSRuceUVYOsJ",
        "outputId": "99891478-2ec1-4247-9ff4-ab53b63027fa"
      },
      "execution_count": 52,
      "outputs": [
        {
          "output_type": "stream",
          "name": "stdout",
          "text": [
            "Detected(lang=en, confidence=None)\n"
          ]
        }
      ]
    },
    {
      "cell_type": "markdown",
      "source": [
        "**CONVERTING ENGLISH TO TAMIL**"
      ],
      "metadata": {
        "id": "PHEvGAK5A766"
      }
    },
    {
      "cell_type": "code",
      "source": [
        "text_ta = translator.translate(text_comb, src='en', dest='ta')\n",
        "print(text_ta.text)"
      ],
      "metadata": {
        "colab": {
          "base_uri": "https://localhost:8080/"
        },
        "id": "4_n_SMIQYTct",
        "outputId": "9c71b9a0-a77f-492d-a805-0b8b09775b51"
      },
      "execution_count": 53,
      "outputs": [
        {
          "output_type": "stream",
          "name": "stdout",
          "text": [
            "எதிர்காலம் இன்று நீங்கள் என்ன செய்கிறீர்கள் என்பதைப் பொறுத்தது\n"
          ]
        }
      ]
    },
    {
      "cell_type": "markdown",
      "source": [
        "**CONVERTING TEXT INTO AUDIO**"
      ],
      "metadata": {
        "id": "Toen3dknBHnX"
      }
    },
    {
      "cell_type": "code",
      "source": [
        "en_tts=gTTS(text_ta.text)\n",
        "en_tts.save('trans.mp3')"
      ],
      "metadata": {
        "id": "3MMoxKKQYzvy"
      },
      "execution_count": 56,
      "outputs": []
    },
    {
      "cell_type": "code",
      "source": [
        "Audio('trans.mp3' , autoplay=True)"
      ],
      "metadata": {
        "colab": {
          "base_uri": "https://localhost:8080/",
          "height": 75
        },
        "id": "7m4V6b-uZTZZ",
        "outputId": "648e4be2-5e1a-4c8c-bff5-53d29034b029"
      },
      "execution_count": 57,
      "outputs": [
        {
          "output_type": "execute_result",
          "data": {
            "text/plain": [
              "<IPython.lib.display.Audio object>"
            ],
            "text/html": [
              "\n",
              "                <audio  controls=\"controls\" autoplay=\"autoplay\">\n",
              "                    <source src=\"data:audio/mpeg;base64,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\" type=\"audio/mpeg\" />\n",
              "                    Your browser does not support the audio element.\n",
              "                </audio>\n",
              "              "
            ]
          },
          "metadata": {},
          "execution_count": 57
        }
      ]
    },
    {
      "cell_type": "markdown",
      "source": [
        "# UPLOADING AN ARTICLE AND CONVERTING IT INTO AUDIO\n",
        "\n",
        "\n",
        "\n"
      ],
      "metadata": {
        "id": "Qm3oxU5CBViK"
      }
    },
    {
      "cell_type": "code",
      "source": [
        "pip install newspaper3k\n"
      ],
      "metadata": {
        "colab": {
          "base_uri": "https://localhost:8080/"
        },
        "id": "xSVxfxS6zBdF",
        "outputId": "5e8dd76e-0ad0-4367-c882-d043603b4b17"
      },
      "execution_count": 59,
      "outputs": [
        {
          "output_type": "stream",
          "name": "stdout",
          "text": [
            "Collecting newspaper3k\n",
            "  Downloading newspaper3k-0.2.8-py3-none-any.whl (211 kB)\n",
            "\u001b[?25l     \u001b[90m━━━━━━━━━━━━━━━━━━━━━━━━━━━━━━━━━━━━━━━━\u001b[0m \u001b[32m0.0/211.1 kB\u001b[0m \u001b[31m?\u001b[0m eta \u001b[36m-:--:--\u001b[0m\r\u001b[2K     \u001b[91m━━━━━━━━━━━━━━━\u001b[0m\u001b[91m╸\u001b[0m\u001b[90m━━━━━━━━━━━━━━━━━━━━━━━━\u001b[0m \u001b[32m81.9/211.1 kB\u001b[0m \u001b[31m2.4 MB/s\u001b[0m eta \u001b[36m0:00:01\u001b[0m\r\u001b[2K     \u001b[90m━━━━━━━━━━━━━━━━━━━━━━━━━━━━━━━━━━━━━━━━\u001b[0m \u001b[32m211.1/211.1 kB\u001b[0m \u001b[31m4.0 MB/s\u001b[0m eta \u001b[36m0:00:00\u001b[0m\n",
            "\u001b[?25hRequirement already satisfied: beautifulsoup4>=4.4.1 in /usr/local/lib/python3.10/dist-packages (from newspaper3k) (4.11.2)\n",
            "Requirement already satisfied: Pillow>=3.3.0 in /usr/local/lib/python3.10/dist-packages (from newspaper3k) (9.4.0)\n",
            "Requirement already satisfied: PyYAML>=3.11 in /usr/local/lib/python3.10/dist-packages (from newspaper3k) (6.0.1)\n",
            "Collecting cssselect>=0.9.2 (from newspaper3k)\n",
            "  Downloading cssselect-1.2.0-py2.py3-none-any.whl (18 kB)\n",
            "Requirement already satisfied: lxml>=3.6.0 in /usr/local/lib/python3.10/dist-packages (from newspaper3k) (4.9.4)\n",
            "Requirement already satisfied: nltk>=3.2.1 in /usr/local/lib/python3.10/dist-packages (from newspaper3k) (3.8.1)\n",
            "Requirement already satisfied: requests>=2.10.0 in /usr/local/lib/python3.10/dist-packages (from newspaper3k) (2.31.0)\n",
            "Collecting feedparser>=5.2.1 (from newspaper3k)\n",
            "  Downloading feedparser-6.0.11-py3-none-any.whl (81 kB)\n",
            "\u001b[2K     \u001b[90m━━━━━━━━━━━━━━━━━━━━━━━━━━━━━━━━━━━━━━━━\u001b[0m \u001b[32m81.3/81.3 kB\u001b[0m \u001b[31m7.4 MB/s\u001b[0m eta \u001b[36m0:00:00\u001b[0m\n",
            "\u001b[?25hCollecting tldextract>=2.0.1 (from newspaper3k)\n",
            "  Downloading tldextract-5.1.1-py3-none-any.whl (97 kB)\n",
            "\u001b[2K     \u001b[90m━━━━━━━━━━━━━━━━━━━━━━━━━━━━━━━━━━━━━━━━\u001b[0m \u001b[32m97.7/97.7 kB\u001b[0m \u001b[31m10.0 MB/s\u001b[0m eta \u001b[36m0:00:00\u001b[0m\n",
            "\u001b[?25hCollecting feedfinder2>=0.0.4 (from newspaper3k)\n",
            "  Downloading feedfinder2-0.0.4.tar.gz (3.3 kB)\n",
            "  Preparing metadata (setup.py) ... \u001b[?25l\u001b[?25hdone\n",
            "Collecting jieba3k>=0.35.1 (from newspaper3k)\n",
            "  Downloading jieba3k-0.35.1.zip (7.4 MB)\n",
            "\u001b[2K     \u001b[90m━━━━━━━━━━━━━━━━━━━━━━━━━━━━━━━━━━━━━━━━\u001b[0m \u001b[32m7.4/7.4 MB\u001b[0m \u001b[31m20.0 MB/s\u001b[0m eta \u001b[36m0:00:00\u001b[0m\n",
            "\u001b[?25h  Preparing metadata (setup.py) ... \u001b[?25l\u001b[?25hdone\n",
            "Requirement already satisfied: python-dateutil>=2.5.3 in /usr/local/lib/python3.10/dist-packages (from newspaper3k) (2.8.2)\n",
            "Collecting tinysegmenter==0.3 (from newspaper3k)\n",
            "  Downloading tinysegmenter-0.3.tar.gz (16 kB)\n",
            "  Preparing metadata (setup.py) ... \u001b[?25l\u001b[?25hdone\n",
            "Requirement already satisfied: soupsieve>1.2 in /usr/local/lib/python3.10/dist-packages (from beautifulsoup4>=4.4.1->newspaper3k) (2.5)\n",
            "Requirement already satisfied: six in /usr/local/lib/python3.10/dist-packages (from feedfinder2>=0.0.4->newspaper3k) (1.16.0)\n",
            "Collecting sgmllib3k (from feedparser>=5.2.1->newspaper3k)\n",
            "  Downloading sgmllib3k-1.0.0.tar.gz (5.8 kB)\n",
            "  Preparing metadata (setup.py) ... \u001b[?25l\u001b[?25hdone\n",
            "Requirement already satisfied: click in /usr/local/lib/python3.10/dist-packages (from nltk>=3.2.1->newspaper3k) (8.1.7)\n",
            "Requirement already satisfied: joblib in /usr/local/lib/python3.10/dist-packages (from nltk>=3.2.1->newspaper3k) (1.3.2)\n",
            "Requirement already satisfied: regex>=2021.8.3 in /usr/local/lib/python3.10/dist-packages (from nltk>=3.2.1->newspaper3k) (2023.6.3)\n",
            "Requirement already satisfied: tqdm in /usr/local/lib/python3.10/dist-packages (from nltk>=3.2.1->newspaper3k) (4.66.1)\n",
            "Requirement already satisfied: charset-normalizer<4,>=2 in /usr/local/lib/python3.10/dist-packages (from requests>=2.10.0->newspaper3k) (3.3.2)\n",
            "Requirement already satisfied: idna<4,>=2.5 in /usr/local/lib/python3.10/dist-packages (from requests>=2.10.0->newspaper3k) (2.10)\n",
            "Requirement already satisfied: urllib3<3,>=1.21.1 in /usr/local/lib/python3.10/dist-packages (from requests>=2.10.0->newspaper3k) (2.0.7)\n",
            "Requirement already satisfied: certifi>=2017.4.17 in /usr/local/lib/python3.10/dist-packages (from requests>=2.10.0->newspaper3k) (2023.11.17)\n",
            "Collecting requests-file>=1.4 (from tldextract>=2.0.1->newspaper3k)\n",
            "  Downloading requests_file-1.5.1-py2.py3-none-any.whl (3.7 kB)\n",
            "Requirement already satisfied: filelock>=3.0.8 in /usr/local/lib/python3.10/dist-packages (from tldextract>=2.0.1->newspaper3k) (3.13.1)\n",
            "Building wheels for collected packages: tinysegmenter, feedfinder2, jieba3k, sgmllib3k\n",
            "  Building wheel for tinysegmenter (setup.py) ... \u001b[?25l\u001b[?25hdone\n",
            "  Created wheel for tinysegmenter: filename=tinysegmenter-0.3-py3-none-any.whl size=13538 sha256=a4d44b12395c7113879a50b5217ad068db3887a19a5f525d9a237727b1a52efb\n",
            "  Stored in directory: /root/.cache/pip/wheels/c8/d6/6c/384f58df48c00b9a31d638005143b5b3ac62c3d25fb1447f23\n",
            "  Building wheel for feedfinder2 (setup.py) ... \u001b[?25l\u001b[?25hdone\n",
            "  Created wheel for feedfinder2: filename=feedfinder2-0.0.4-py3-none-any.whl size=3340 sha256=495066570beb8701a5c60e0dce771ce493843221fd274e522dd8e5c6add50cb5\n",
            "  Stored in directory: /root/.cache/pip/wheels/97/02/e7/a1ff1760e12bdbaab0ac824fae5c1bc933e41c4ccd6a8f8edb\n",
            "  Building wheel for jieba3k (setup.py) ... \u001b[?25l\u001b[?25hdone\n",
            "  Created wheel for jieba3k: filename=jieba3k-0.35.1-py3-none-any.whl size=7398381 sha256=ea8e1e3f24d081a027bc79019c4a2159e6c5d187d962a5c034a19f514fc1bc15\n",
            "  Stored in directory: /root/.cache/pip/wheels/7a/c4/0c/12a9a314ecac499456c4c3b2fcc2f635a3b45a39dfbd240299\n",
            "  Building wheel for sgmllib3k (setup.py) ... \u001b[?25l\u001b[?25hdone\n",
            "  Created wheel for sgmllib3k: filename=sgmllib3k-1.0.0-py3-none-any.whl size=6048 sha256=a526003063f7f5fcea02f41187f3cdde4433425c2b5ae4f0ebb5e9ee4364d950\n",
            "  Stored in directory: /root/.cache/pip/wheels/f0/69/93/a47e9d621be168e9e33c7ce60524393c0b92ae83cf6c6e89c5\n",
            "Successfully built tinysegmenter feedfinder2 jieba3k sgmllib3k\n",
            "Installing collected packages: tinysegmenter, sgmllib3k, jieba3k, feedparser, cssselect, requests-file, feedfinder2, tldextract, newspaper3k\n",
            "Successfully installed cssselect-1.2.0 feedfinder2-0.0.4 feedparser-6.0.11 jieba3k-0.35.1 newspaper3k-0.2.8 requests-file-1.5.1 sgmllib3k-1.0.0 tinysegmenter-0.3 tldextract-5.1.1\n"
          ]
        }
      ]
    },
    {
      "cell_type": "markdown",
      "source": [
        "**IMPORTING LIBRARIES**"
      ],
      "metadata": {
        "id": "P41ADGPVB6qx"
      }
    },
    {
      "cell_type": "code",
      "source": [
        "from newspaper import Article\n",
        "import nltk\n",
        "from gtts import gTTS\n",
        "import os"
      ],
      "metadata": {
        "id": "f8_XuUUNy9U_"
      },
      "execution_count": 60,
      "outputs": []
    },
    {
      "cell_type": "markdown",
      "source": [
        "**UPLOADING AN ARTICLE**"
      ],
      "metadata": {
        "id": "p0deVJDOCGlR"
      }
    },
    {
      "cell_type": "code",
      "source": [
        "article = Article('https://englishsummary.com/short-essay-on-sun-in-english-2/')"
      ],
      "metadata": {
        "id": "dNixzH58zOtB"
      },
      "execution_count": 61,
      "outputs": []
    },
    {
      "cell_type": "markdown",
      "source": [
        "**DOWNLOADING THE ARTICLE**"
      ],
      "metadata": {
        "id": "yu408YDOCMpa"
      }
    },
    {
      "cell_type": "code",
      "source": [
        "article.download()\n",
        "article.parse()"
      ],
      "metadata": {
        "id": "gEqdgawFzSFy"
      },
      "execution_count": 62,
      "outputs": []
    },
    {
      "cell_type": "markdown",
      "source": [
        "**UPLOADING NATURAL LANGUAGE PROCESSING**"
      ],
      "metadata": {
        "id": "rN7mRFxgCR4-"
      }
    },
    {
      "cell_type": "code",
      "source": [
        "nltk.download('punkt')\n",
        "article.nlp()"
      ],
      "metadata": {
        "colab": {
          "base_uri": "https://localhost:8080/"
        },
        "id": "gJ7HmrQOzVby",
        "outputId": "81f24453-1c5d-4b66-bceb-898a5309a2fb"
      },
      "execution_count": 63,
      "outputs": [
        {
          "output_type": "stream",
          "name": "stderr",
          "text": [
            "[nltk_data] Downloading package punkt to /root/nltk_data...\n",
            "[nltk_data]   Package punkt is already up-to-date!\n"
          ]
        }
      ]
    },
    {
      "cell_type": "markdown",
      "source": [
        "**DEFINING A VARIABLE TO STORE THE ARTICLE**"
      ],
      "metadata": {
        "id": "mFOYCl28CaW9"
      }
    },
    {
      "cell_type": "code",
      "source": [
        "mytext = article.text"
      ],
      "metadata": {
        "id": "qmXwcFsizjSw"
      },
      "execution_count": 64,
      "outputs": []
    },
    {
      "cell_type": "markdown",
      "source": [
        "**CHOOSING THE LANGUAGE OF SPEECH**"
      ],
      "metadata": {
        "id": "xtq1dPHOCgd-"
      }
    },
    {
      "cell_type": "code",
      "source": [
        "language = 'en'"
      ],
      "metadata": {
        "id": "lbadinUpznZ7"
      },
      "execution_count": 65,
      "outputs": []
    },
    {
      "cell_type": "markdown",
      "source": [
        "**CONVERTING TEXT INTO VARIABLE**"
      ],
      "metadata": {
        "id": "JPreTC4qCm--"
      }
    },
    {
      "cell_type": "code",
      "source": [
        "myobj = gTTS(text=mytext, lang=language, slow=False)"
      ],
      "metadata": {
        "id": "xUZI_OwKzrTl"
      },
      "execution_count": 66,
      "outputs": []
    },
    {
      "cell_type": "code",
      "source": [
        "myobj.save(\"read_article.mp3\")"
      ],
      "metadata": {
        "id": "ne7THqjQzuer"
      },
      "execution_count": 67,
      "outputs": []
    },
    {
      "cell_type": "markdown",
      "source": [
        "**PLAYING THE AUDIO FILE**"
      ],
      "metadata": {
        "id": "dLOBTqeg0duF"
      }
    },
    {
      "cell_type": "code",
      "source": [
        "os.system(\"start read_article.mp3\")"
      ],
      "metadata": {
        "id": "hvLt52kAz0wW"
      },
      "execution_count": null,
      "outputs": []
    }
  ]
}
